{
  "nbformat": 4,
  "nbformat_minor": 0,
  "metadata": {
    "colab": {
      "name": "Aula4.ipynb",
      "provenance": [],
      "authorship_tag": "ABX9TyML2CPUaWB8hMfxeIjvgaus",
      "include_colab_link": true
    },
    "kernelspec": {
      "name": "python3",
      "display_name": "Python 3"
    }
  },
  "cells": [
    {
      "cell_type": "markdown",
      "metadata": {
        "id": "view-in-github",
        "colab_type": "text"
      },
      "source": [
        "<a href=\"https://colab.research.google.com/github/ricardotheodoro/DataScienceUdemy/blob/main/Aula4.ipynb\" target=\"_parent\"><img src=\"https://colab.research.google.com/assets/colab-badge.svg\" alt=\"Open In Colab\"/></a>"
      ]
    },
    {
      "cell_type": "code",
      "metadata": {
        "colab": {
          "base_uri": "https://localhost:8080/",
          "height": 295
        },
        "id": "8gQw_BqIaM8r",
        "outputId": "49d5a83e-9984-4df8-e0be-6f156215ed27"
      },
      "source": [
        "import matplotlib.pyplot as plt\r\n",
        "\r\n",
        "#Valores\r\n",
        "x1 = [1, 3, 5, 7, 9] #Barras\r\n",
        "y1 = [2, 3, 7, 1, 0] #Tamanho das Barras / Valor\r\n",
        "\r\n",
        "x2 = [2, 4, 6, 8, 10]\r\n",
        "y2 = [5, 1, 3, 7, 4]\r\n",
        "\r\n",
        "#Titulo\r\n",
        "titulo = \"Gráfico de barras 2 \"\r\n",
        "eixox = \"Eixo X\"\r\n",
        "eixoy = \"Eixo Y\"\r\n",
        "\r\n",
        "#Legendas\r\n",
        "plt.title(titulo)\r\n",
        "plt.xlabel(eixox)\r\n",
        "plt.ylabel(eixoy)\r\n",
        "\r\n",
        "plt.bar(x1,y1, label = \"Grupo 1\")\r\n",
        "plt.bar(x2,y2, label = \"Grupo 2\")\r\n",
        "plt.legend()\r\n",
        "plt.show()"
      ],
      "execution_count": 3,
      "outputs": [
        {
          "output_type": "display_data",
          "data": {
            "image/png": "[encoded data removed]",
            "text/plain": [
              "<Figure size 432x288 with 1 Axes>"
            ]
          },
          "metadata": {
            "tags": [],
            "needs_background": "light"
          }
        }
      ]
    }
  ]
}