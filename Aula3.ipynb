{
  "nbformat": 4,
  "nbformat_minor": 0,
  "metadata": {
    "colab": {
      "name": "Aula3.ipynb",
      "provenance": [],
      "collapsed_sections": [],
      "authorship_tag": "ABX9TyPRX4Tl1mB1whkdr4SVYo0I",
      "include_colab_link": true
    },
    "kernelspec": {
      "name": "python3",
      "display_name": "Python 3"
    }
  },
  "cells": [
    {
      "cell_type": "markdown",
      "metadata": {
        "id": "view-in-github",
        "colab_type": "text"
      },
      "source": [
        "<a href=\"https://colab.research.google.com/github/ricardotheodoro/DataScienceUdemy/blob/main/Aula3.ipynb\" target=\"_parent\"><img src=\"https://colab.research.google.com/assets/colab-badge.svg\" alt=\"Open In Colab\"/></a>"
      ]
    },
    {
      "cell_type": "code",
      "metadata": {
        "colab": {
          "base_uri": "https://localhost:8080/",
          "height": 295
        },
        "id": "rpiYGzyLY-L7",
        "outputId": "471cd295-a694-456e-e45e-53c4d34dadf3"
      },
      "source": [
        "import matplotlib.pyplot as plt\r\n",
        "\r\n",
        "#Valores\r\n",
        "x = [1, 2, 3, 4, 5] #Barras\r\n",
        "y = [2, 3, 7, 1, 0] #Tamanho das Barras / Valor\r\n",
        "\r\n",
        "titulo = \"Gráfico de barras\"\r\n",
        "eixox = \"Eixo X\"\r\n",
        "eixoy = \"Eixo Y\"\r\n",
        "\r\n",
        "#Legendas\r\n",
        "plt.title(titulo)\r\n",
        "plt.xlabel(eixox)\r\n",
        "plt.ylabel(eixoy)\r\n",
        "\r\n",
        "plt.bar(x,y)\r\n",
        "plt.show()"
      ],
      "execution_count": 4,
      "outputs": [
        {
          "output_type": "display_data",
          "data": {
            "image/png": "[encoded data removed]",
            "text/plain": [
              "<Figure size 432x288 with 1 Axes>"
            ]
          },
          "metadata": {
            "tags": [],
            "needs_background": "light"
          }
        }
      ]
    }
  ]
}